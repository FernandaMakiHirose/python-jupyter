{
 "cells": [
  {
   "cell_type": "markdown",
   "metadata": {},
   "source": [
    "# Range\n",
    "\n",
    "### Estrutura:\n",
    "\n",
    "- range(tamanho)\n",
    "\n",
    "ou \n",
    "\n",
    "- range(inicio, fim)\n",
    "\n",
    "ou\n",
    "\n",
    "- range(inicio, fim, passo)"
   ]
  },
  {
   "cell_type": "code",
   "execution_count": 9,
   "metadata": {},
   "outputs": [
    {
     "name": "stdout",
     "output_type": "stream",
     "text": [
      "arroz : 50 unidades em estoque\n",
      "feijao : 100 unidades em estoque\n",
      "macarrao : 20 unidades em estoque\n",
      "atum : 5 unidades em estoque\n",
      "azeite : 80 unidades em estoque\n"
     ]
    }
   ],
   "source": [
    "#uso mais comum no for:\n",
    "produtos = ['arroz', 'feijao', 'macarrao', 'atum', 'azeite']\n",
    "estoque = [50, 100, 20, 5, 80]\n",
    "\n",
    "for i in range(5):\n",
    "    print('{} : {} unidades em estoque' .format(produtos[i], estoque[i]))"
   ]
  },
  {
   "cell_type": "code",
   "execution_count": 10,
   "metadata": {},
   "outputs": [
    {
     "name": "stdout",
     "output_type": "stream",
     "text": [
      "range(1, 10)\n",
      "1\n",
      "2\n",
      "3\n",
      "4\n",
      "5\n",
      "6\n",
      "7\n",
      "8\n",
      "9\n"
     ]
    }
   ],
   "source": [
    "#range com inicio e fim\n",
    "print(range(1, 10))\n",
    "\n",
    "#vamos olhar no for para entender\n",
    "for i in range(1, 10):\n",
    "    print(i)"
   ]
  },
  {
   "cell_type": "markdown",
   "metadata": {},
   "source": [
    "- Exemplo: Modelo Jack Welch da G&E\n",
    "\n",
    "    1. Classe A: 10% melhor\n",
    "    2. Classe B: 80% mantém/busca melhorar\n",
    "    3. Classe C: 10% pior\n",
    "    \n",
    "Quem são os funcionários classe B?"
   ]
  },
  {
   "cell_type": "code",
   "execution_count": 14,
   "metadata": {},
   "outputs": [
    {
     "name": "stdout",
     "output_type": "stream",
     "text": [
      "Funcionários classe B\n",
      "João : 1200\n",
      "Francisco : 1111\n",
      "Ana : 1100\n",
      "Luiz : 999\n",
      "Paulo : 900\n",
      "Carlos : 880\n",
      "Manoel : 870\n",
      "Pedro : 800\n",
      "Francisca : 800\n",
      "Marcos : 450\n",
      "Raimundo : 400\n",
      "Sebastião : 300\n",
      "Antônia : 300\n",
      "Marcelo : 120\n",
      "Jorge : 90\n"
     ]
    }
   ],
   "source": [
    "funcionarios = ['Maria', 'José', 'Antônio', 'João', 'Francisco', 'Ana', 'Luiz', 'Paulo', 'Carlos', 'Manoel', 'Pedro', 'Francisca', 'Marcos', 'Raimundo', 'Sebastião', 'Antônia', 'Marcelo', 'Jorge', 'Márcia', 'Geraldo']\n",
    "vendas = [2750, 1900, 1500, 1200, 1111, 1100, 999, 900, 880, 870, 800, 800, 450, 400, 300, 300, 120, 90, 80, 70]\n",
    "\n",
    "# 20% de 20 = 4\n",
    "# 20 - 4 = 16\n",
    "# Os 2 primeiros e 2 últimos são os 20%\n",
    "# conte do 0 até o 2 de frente pra trás = Antônio = 2\n",
    "# conte do 0 até o 2 de trás para frente = Jorge = 18 ()\n",
    "\n",
    "print('Funcionários classe B')\n",
    "for i in range(2, 18):\n",
    "    print(f'{funcionarios[i]} : {vendas[i]}')"
   ]
  },
  {
   "cell_type": "code",
   "execution_count": null,
   "metadata": {},
   "outputs": [],
   "source": [
    "#range com passo\n",
    "print(range(0, 1000, 10))\n",
    "\n",
    "for i in range(0, 1000, 10):\n",
    "    print(i)"
   ]
  }
 ],
 "metadata": {
  "kernelspec": {
   "display_name": "Python 3",
   "language": "python",
   "name": "python3"
  },
  "language_info": {
   "codemirror_mode": {
    "name": "ipython",
    "version": 3
   },
   "file_extension": ".py",
   "mimetype": "text/x-python",
   "name": "python",
   "nbconvert_exporter": "python",
   "pygments_lexer": "ipython3",
   "version": "3.8.5"
  }
 },
 "nbformat": 4,
 "nbformat_minor": 4
}
