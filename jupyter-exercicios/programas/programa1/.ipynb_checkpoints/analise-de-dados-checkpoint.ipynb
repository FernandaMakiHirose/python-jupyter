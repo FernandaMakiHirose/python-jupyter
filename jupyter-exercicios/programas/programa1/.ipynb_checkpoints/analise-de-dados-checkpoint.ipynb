{
 "cells": [
  {
   "cell_type": "markdown",
   "metadata": {},
   "source": [
    "Importando as bibliotecas"
   ]
  },
  {
   "cell_type": "code",
   "execution_count": null,
   "metadata": {},
   "outputs": [],
   "source": [
    "import pyautogui # faz a automação do mouse e do teclado\n",
    "import time # controle o tempo do nosso programa\n",
    "import pyperclip # permite copiar e colar com o python"
   ]
  },
  {
   "cell_type": "markdown",
   "metadata": {},
   "source": [
    "Passo 1"
   ]
  },
  {
   "cell_type": "code",
   "execution_count": null,
   "metadata": {},
   "outputs": [],
   "source": [
    "pyautogui.PAUSE = 1 # o pyautogui vai esperar 1 segundo para cada operação abaixo para o programa não parar de funcionar\n",
    "\n",
    "pyautogui.alert('O programa vai começar. Não mexa no seu programa enquanto isso.') # alerta antes do programa começar\n",
    "\n",
    "# pedindo para o pyautogui executar um comando (hotkey) que é abrir uma nova guia (ctrl + t)\n",
    "pyautogui.hotkey('ctrl', 't') \n",
    "\n",
    " # a variável 'link' recebe essa url\n",
    "link = (\"https://drive.google.com/drive/folders/1qa9CkygWyo9uUPdf59lk5hzFLY-zhiMN\")\n",
    "\n",
    "# copiou o link\n",
    "pyperclip.copy(link) \n",
    "\n",
    "# vai executar o enter\n",
    "pyautogui.hotkey('ctrl', 'v') \n",
    "\n",
    "# vai executar o enter do teclado\n",
    "pyautogui.press(\"enter\") \n",
    "\n",
    "# vai esperar 5 segundos\n",
    "time.sleep(5)"
   ]
  },
  {
   "cell_type": "markdown",
   "metadata": {},
   "source": [
    "Passo 2 - Entrar na pasta 'python'"
   ]
  },
  {
   "cell_type": "code",
   "execution_count": null,
   "metadata": {},
   "outputs": [],
   "source": [
    "# consegui esses dados rodando 'time.sleep(5)' e 'pyautogui.position', executei esse código e coloquei o mouse em cima da pasta\n",
    "# então ele pegou a posição 'x' e 'y', o 'clicks' é a quantidade de cliques que quero executar\n",
    "\n",
    "pyautogui.click(384, 259, clicks=2) "
   ]
  },
  {
   "cell_type": "markdown",
   "metadata": {},
   "source": [
    "Passo 3 - Fazendo download da base de vendas"
   ]
  },
  {
   "cell_type": "code",
   "execution_count": null,
   "metadata": {},
   "outputs": [],
   "source": [
    "# clicando no arquivo\n",
    "pyautogui.click(411, 317) \n",
    "\n",
    "# clicando no botão dos 3 pontinhos\n",
    "pyautogui.click(1155, 152)\n",
    "\n",
    "# clicando no botão de fazer download\n",
    "pyautogui.click(1008, 551)\n",
    "\n",
    "# esperar 10 segundos para fazer download\n",
    "time.sleep(10)"
   ]
  },
  {
   "cell_type": "markdown",
   "metadata": {},
   "source": [
    "Passo 4 - Calcular os indicadores (Faturamento e Quantidade de produto)"
   ]
  },
  {
   "cell_type": "code",
   "execution_count": null,
   "metadata": {
    "scrolled": true
   },
   "outputs": [],
   "source": [
    "# vai importar o pandas e dar o apelido dele de 'pd'\n",
    "import pandas as pd \n",
    "\n",
    "# vai ler a tabela do excel, é recomendado adicionar o 'r' antes do caminho que se localiza seu arquivo\n",
    "tabela = pd.read_excel(r\"C:\\Users\\Maki\\Downloads\\Vendas - Dez.xlsx\")\n",
    "\n",
    "# vai mostrar a tabela\n",
    "display(tabela)\n",
    "\n",
    "# Calculo do faturamento \n",
    "faturamento = tabela[\"Valor Final\"].sum()\n",
    "\n",
    "# Calculo da quantidade de produtos\n",
    "qtde_produtos = tabela[\"Quantidade\"].sum()"
   ]
  },
  {
   "cell_type": "markdown",
   "metadata": {},
   "source": [
    "Passo 5 - Enviar um e-mail pelo gmail"
   ]
  },
  {
   "cell_type": "code",
   "execution_count": null,
   "metadata": {},
   "outputs": [],
   "source": [
    "pyautogui.hotkey('ctrl', 't') \n",
    "\n",
    " # a variável 'link' recebe essa url\n",
    "link = (\"https://mail.google.com/mail/u/2/#inbox\")\n",
    "\n",
    "# copiou o link\n",
    "pyperclip.copy(link) \n",
    "\n",
    "# vai executar o enter\n",
    "pyautogui.hotkey('ctrl', 'v') \n",
    "\n",
    "# vai executar o enter do teclado\n",
    "pyautogui.press(\"enter\") \n",
    "\n",
    "# vai esperar 5 segundos\n",
    "time.sleep(5)"
   ]
  },
  {
   "cell_type": "markdown",
   "metadata": {},
   "source": [
    "Passo 6 - Criar e-mail"
   ]
  },
  {
   "cell_type": "code",
   "execution_count": null,
   "metadata": {},
   "outputs": [],
   "source": [
    "pyautogui.click(95, 175)\n",
    "time.sleep(7)\n",
    "\n",
    "# escolher o e-mail\n",
    "pyautogui.write(\"fernandamakihirosetestes@gmail.com\")\n",
    "pyautogui.press(\"tab\")\n",
    "\n",
    "# preencher o assunto\n",
    "pyautogui.press(\"tab\")\n",
    "assunto = \"Relatório de vendas\"\n",
    "pyperclip.copy(assunto)\n",
    "pyautogui.hotkey(\"ctrl\", \"v\")\n",
    "\n",
    "# preencher o e-mail\n",
    "pyautogui.press(\"tab\")\n",
    "texto_email = f\"\"\"\n",
    "Prazados, bom dia\n",
    "\n",
    "O faturamento foi de: R${faturamento:,.2f}\n",
    "A quantidade de produtos foi de: {qtde_produtos:,}\n",
    "\n",
    "Abraço,\n",
    "Fernanda Maki Hirose\n",
    "\"\"\"\n",
    "pyperclip.copy(texto_email)\n",
    "pyautogui.hotkey(\"ctrl\", \"v\")"
   ]
  },
  {
   "cell_type": "markdown",
   "metadata": {},
   "source": [
    "Passo 7 - Enviar o e-mail"
   ]
  },
  {
   "cell_type": "code",
   "execution_count": null,
   "metadata": {},
   "outputs": [],
   "source": [
    "pyautogui.hotkey(\"ctrl\", \"enter\")\n",
    "\n",
    "# para rodar o programa tudo de uma vez: cell > run all"
   ]
  },
  {
   "cell_type": "code",
   "execution_count": null,
   "metadata": {},
   "outputs": [],
   "source": []
  }
 ],
 "metadata": {
  "kernelspec": {
   "display_name": "Python 3",
   "language": "python",
   "name": "python3"
  },
  "language_info": {
   "codemirror_mode": {
    "name": "ipython",
    "version": 3
   },
   "file_extension": ".py",
   "mimetype": "text/x-python",
   "name": "python",
   "nbconvert_exporter": "python",
   "pygments_lexer": "ipython3",
   "version": "3.8.5"
  }
 },
 "nbformat": 4,
 "nbformat_minor": 4
}
