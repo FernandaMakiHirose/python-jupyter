{
 "cells": [
  {
   "cell_type": "markdown",
   "metadata": {},
   "source": [
    "# Function Python\n",
    "\n",
    "### O que é?\n",
    "\n",
    "As functions são blocos de código que servem 1 único propósito, fazem uma ação específica.\n",
    "É importante criar as functions porque não é necessário escrever todo o código novamente. \n",
    "Qualquer variável que você cria dentro de uma function fica dentro dela, para usá-la fora da função use o return.\n",
    "O return é a resposta da function, por isso não pode escrever nenhum código abaixo dele.\n",
    "\n",
    "### Estrutura Básica"
   ]
  },
  {
   "cell_type": "raw",
   "metadata": {},
   "source": [
    "def nome_funcao():\n",
    "    faça alguma coisa\n",
    "    faça outra coisa\n",
    "    return valor_final"
   ]
  },
  {
   "cell_type": "markdown",
   "metadata": {},
   "source": [
    "- Exemplo: vamos criar uma função de cadastro de um Produto. Essa função deve garantir que o produto cadastrado está em letra minúscula."
   ]
  },
  {
   "cell_type": "code",
   "execution_count": 22,
   "metadata": {},
   "outputs": [],
   "source": [
    "def cadastrar_produto():\n",
    "    produto = input('Digite o nome do produto que deseja cadastrar: ')\n",
    "    produto = produto.casefold()\n",
    "    produto = produto.strip()\n",
    "    print(f'Produto {produto} cadastrado com sucesso.')\n",
    "    return produto"
   ]
  },
  {
   "cell_type": "code",
   "execution_count": 25,
   "metadata": {
    "scrolled": false
   },
   "outputs": [
    {
     "name": "stdout",
     "output_type": "stream",
     "text": [
      "Digite o nome do produto que deseja cadastrar: FEIJÃO\n",
      "Produto feijão cadastrado com sucesso.\n",
      "Digite o nome do produto que deseja cadastrar: ARROZ\n",
      "Produto arroz cadastrado com sucesso.\n",
      "Digite o nome do produto que deseja cadastrar: SOPA\n",
      "Produto sopa cadastrado com sucesso.\n"
     ]
    }
   ],
   "source": [
    "# vamos supor que queira cadastrar 3 produtos\n",
    "for i in range(3):\n",
    "    cadastrar_produto()"
   ]
  },
  {
   "cell_type": "code",
   "execution_count": 26,
   "metadata": {},
   "outputs": [
    {
     "name": "stdout",
     "output_type": "stream",
     "text": [
      "Digite o nome do produto que deseja cadastrar: TOMATE\n",
      "Produto tomate cadastrado com sucesso.\n",
      "tomate\n"
     ]
    }
   ],
   "source": [
    "# o return faz com que a variável produto possa ser usada fora da função\n",
    "produto = cadastrar_produto()\n",
    "print(produto)"
   ]
  }
 ],
 "metadata": {
  "kernelspec": {
   "display_name": "Python 3",
   "language": "python",
   "name": "python3"
  },
  "language_info": {
   "codemirror_mode": {
    "name": "ipython",
    "version": 3
   },
   "file_extension": ".py",
   "mimetype": "text/x-python",
   "name": "python",
   "nbconvert_exporter": "python",
   "pygments_lexer": "ipython3",
   "version": "3.8.5"
  }
 },
 "nbformat": 4,
 "nbformat_minor": 4
}
