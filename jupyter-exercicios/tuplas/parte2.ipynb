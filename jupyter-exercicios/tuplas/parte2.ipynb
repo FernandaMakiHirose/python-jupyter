{
 "cells": [
  {
   "cell_type": "markdown",
   "metadata": {},
   "source": [
    "# Tuplas\n",
    "\n",
    "### Estrutura:\n",
    "\n",
    "tupla = (valor, valor, valor, ...)\n",
    "\n",
    "### Diferença\n",
    "\n",
    "Parece uma lista, mas é imutável.\n",
    "\n",
    "### Vantagens:\n",
    "\n",
    "- Mais eficiente (em termos de performance)\n",
    "- Protege a base de dados (por ser imutável)\n",
    "- Muito usado para dados heterogêneos (dados muito diferentes um dos outros)\n",
    "\n",
    "### Criando tuplas"
   ]
  },
  {
   "cell_type": "code",
   "execution_count": 5,
   "metadata": {},
   "outputs": [
    {
     "name": "stdout",
     "output_type": "stream",
     "text": [
      "('Lira', '25/08/2020', '15/02/1994', 2000, 'Estagiário')\n"
     ]
    }
   ],
   "source": [
    "vendas = ('Lira', '25/08/2020', '15/02/1994', 2000, 'Estagiário')\n",
    "print(vendas)"
   ]
  },
  {
   "cell_type": "markdown",
   "metadata": {},
   "source": [
    "### Acessando o valor de uma tupla"
   ]
  },
  {
   "cell_type": "code",
   "execution_count": 6,
   "metadata": {},
   "outputs": [
    {
     "name": "stdout",
     "output_type": "stream",
     "text": [
      "2000\n"
     ]
    }
   ],
   "source": [
    "# Outro modo de acessar valores em uma tupla é determinando variáveis para os dados da tupla, isso se chama desempacotamento.\n",
    "# Precisa ter a mesma quantidade de variáveis e dados\n",
    "# Não é recomendado fazer o desempacotamento em listas\n",
    "\n",
    "nome, data_contratacao, data_nasc, salario, cargo = vendas\n",
    "\n",
    "# Vamos printar algum valor\n",
    "\n",
    "print(salario)"
   ]
  },
  {
   "cell_type": "markdown",
   "metadata": {},
   "source": [
    "- o enumerate que vínhamos usando até agora, na verdade, cria uma tupla para a gente. Vamos ver na prática:"
   ]
  },
  {
   "cell_type": "code",
   "execution_count": 7,
   "metadata": {},
   "outputs": [
    {
     "name": "stdout",
     "output_type": "stream",
     "text": [
      "João vendeu 1000 unidades\n",
      "Lira vendeu 2000 unidades\n",
      "Ana vendeu 300 unidades\n",
      "Maria vendeu 300 unidades\n",
      "Paula vendeu 150 unidades\n"
     ]
    }
   ],
   "source": [
    "vendas = [1000, 2000, 300, 300, 150]\n",
    "funcionarios = ['João', 'Lira', 'Ana', 'Maria', 'Paula']\n",
    "\n",
    "for i, venda in enumerate(vendas):\n",
    "        print('{} vendeu {} unidades'.format(funcionarios[i], venda))"
   ]
  },
  {
   "cell_type": "code",
   "execution_count": 9,
   "metadata": {},
   "outputs": [
    {
     "name": "stdout",
     "output_type": "stream",
     "text": [
      "0\n",
      "1000\n",
      "1\n",
      "2000\n",
      "2\n",
      "300\n",
      "3\n",
      "300\n",
      "4\n",
      "150\n"
     ]
    }
   ],
   "source": [
    "for item in enumerate(vendas):\n",
    "    i, venda = item\n",
    "    print(i)\n",
    "    print(venda)"
   ]
  }
 ],
 "metadata": {
  "kernelspec": {
   "display_name": "Python 3",
   "language": "python",
   "name": "python3"
  },
  "language_info": {
   "codemirror_mode": {
    "name": "ipython",
    "version": 3
   },
   "file_extension": ".py",
   "mimetype": "text/x-python",
   "name": "python",
   "nbconvert_exporter": "python",
   "pygments_lexer": "ipython3",
   "version": "3.8.5"
  }
 },
 "nbformat": 4,
 "nbformat_minor": 4
}
