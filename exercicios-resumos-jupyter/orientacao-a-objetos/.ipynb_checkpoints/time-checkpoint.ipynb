{
 "cells": [
  {
   "cell_type": "markdown",
   "metadata": {},
   "source": [
    "# Módulo time\n",
    "\n",
    "### Estrutura:\n",
    "\n",
    "- Um dos módulos mais usados no Python. Tudo que diz respeito a data, a marcar quanto tempo leva alguma ação, ou a tempo mesmo, o módulo time vai ajudar a gente"
   ]
  },
  {
   "cell_type": "raw",
   "metadata": {},
   "source": [
    "import time"
   ]
  },
  {
   "cell_type": "code",
   "execution_count": 1,
   "metadata": {},
   "outputs": [],
   "source": [
    "import time"
   ]
  },
  {
   "cell_type": "markdown",
   "metadata": {},
   "source": [
    "- Marco Zero (chamado de EPOCH) = 1 de Janeiro de 1970 às 00:00:00\n",
    "- time() retorna quantos segundos se passaram desde a EPOCH"
   ]
  },
  {
   "cell_type": "code",
   "execution_count": 5,
   "metadata": {},
   "outputs": [
    {
     "name": "stdout",
     "output_type": "stream",
     "text": [
      "1620394424.4220827\n"
     ]
    }
   ],
   "source": [
    "segundos = time.time()\n",
    "print(segundos)"
   ]
  },
  {
   "cell_type": "markdown",
   "metadata": {},
   "source": [
    "- ctime retorna a data em string o texto no formato UTC (um formato padrão de datas)"
   ]
  },
  {
   "cell_type": "code",
   "execution_count": 7,
   "metadata": {},
   "outputs": [
    {
     "name": "stdout",
     "output_type": "stream",
     "text": [
      "Fri May  7 10:34:05 2021\n"
     ]
    }
   ],
   "source": [
    "data = time.ctime()\n",
    "print(data)"
   ]
  },
  {
   "cell_type": "markdown",
   "metadata": {},
   "source": [
    "- Isso já pode ser muito útil para medir o tempo que uma ação leva, caso seja do interesse:"
   ]
  },
  {
   "cell_type": "code",
   "execution_count": 8,
   "metadata": {},
   "outputs": [
    {
     "name": "stdout",
     "output_type": "stream",
     "text": [
      "O programa levou 7.393115043640137 segundos para rodar\n"
     ]
    }
   ],
   "source": [
    "tempo_inicial = time.time()\n",
    "for i in range(100000000): # tempo criado aleatoriamente\n",
    "    pass\n",
    "tempo_final = time.time()\n",
    "duracao = tempo_final - tempo_inicial\n",
    "print('O programa levou {} segundos para rodar'.format(duracao))"
   ]
  },
  {
   "cell_type": "markdown",
   "metadata": {},
   "source": [
    "- Fazer o código esperar alguns segundos (muito útil quando temos que esperar um programa ou uma página carregar)"
   ]
  },
  {
   "cell_type": "code",
   "execution_count": 9,
   "metadata": {},
   "outputs": [
    {
     "name": "stdout",
     "output_type": "stream",
     "text": [
      "Começando\n",
      "Rodou 5 segundos após\n"
     ]
    }
   ],
   "source": [
    "#para esperar 5 segundos fazemos:\n",
    "print('Começando')\n",
    "time.sleep(5)\n",
    "print('Rodou 5 segundos após')"
   ]
  },
  {
   "cell_type": "markdown",
   "metadata": {},
   "source": [
    "- Pegar informações de dias, hora, segundo, minuto, tudo detalhado:\n",
    "- gmtime()\n",
    "- gmtime().parâmetro"
   ]
  },
  {
   "cell_type": "code",
   "execution_count": 15,
   "metadata": {},
   "outputs": [
    {
     "name": "stdout",
     "output_type": "stream",
     "text": [
      "time.struct_time(tm_year=2021, tm_mon=5, tm_mday=7, tm_hour=13, tm_min=50, tm_sec=30, tm_wday=4, tm_yday=127, tm_isdst=0)\n"
     ]
    }
   ],
   "source": [
    "informacoes = time.gmtime()\n",
    "print(informacoes)"
   ]
  },
  {
   "cell_type": "markdown",
   "metadata": {},
   "source": [
    "- É um objeto diferente, mas podemos pegar os parâmetros de ano, mês, dia, etc fazendo:"
   ]
  },
  {
   "cell_type": "code",
   "execution_count": 16,
   "metadata": {},
   "outputs": [
    {
     "name": "stdout",
     "output_type": "stream",
     "text": [
      "Hoje é dia 7/5/2021. Dia da semana: 4, hora: 13\n"
     ]
    }
   ],
   "source": [
    "ano = data_atual.tm_year\n",
    "mes = data_atual.tm_mon\n",
    "dia = data_atual.tm_mday\n",
    "hora= data_atual.tm_hour\n",
    "dia_da_semana = data_atual.tm_wday\n",
    "\n",
    "print('Hoje é dia {}/{}/{}. Dia da semana: {}, hora: {}'.format(dia, mes, ano, dia_da_semana, hora))"
   ]
  }
 ],
 "metadata": {
  "kernelspec": {
   "display_name": "Python 3",
   "language": "python",
   "name": "python3"
  },
  "language_info": {
   "codemirror_mode": {
    "name": "ipython",
    "version": 3
   },
   "file_extension": ".py",
   "mimetype": "text/x-python",
   "name": "python",
   "nbconvert_exporter": "python",
   "pygments_lexer": "ipython3",
   "version": "3.8.8"
  }
 },
 "nbformat": 4,
 "nbformat_minor": 4
}
