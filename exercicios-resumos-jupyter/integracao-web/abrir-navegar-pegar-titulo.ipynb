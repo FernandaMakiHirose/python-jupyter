{
 "cells": [
  {
   "cell_type": "markdown",
   "metadata": {},
   "source": [
    "# Integração Python e Web\n",
    "\n",
    "### Objetivo\n",
    "\n",
    "- Quando integramos o Python com a Web temos 2 objetivos:\n",
    "    1. Automatizar algum processo que seja feito no seu navegador\n",
    "    \n",
    "    2. Puxar informações de sites automaticamente \n",
    "\n",
    "Dependendo do seu objetivo, podem existir outras formas de puxar informações de sites diferentes, como APIs, Bibliotecas prontas, etc. Mas o Selenium vai ser sempre uma opção para a gente e por isso é muito bom ter essa carta na manga.\n",
    "\n",
    "### O que vamos usar\n",
    "\n",
    "- Selenium -> uma das bibliotecas mais usadas para web-scraping -> navegar na web com código e fazer alguma coisa ou pegar alguma informação.\n",
    "\n",
    "- Essa é uma biblioteca diferente, porque ela precisa de um driver no seu computador para funcionar. No caso, usaremos o ChromeDriver (disponível para download abaixo da aula)\n",
    "\n",
    "Como tudo no Python, existem outras bibliotecas como a BeautifulSoup que podem ajudar em tarefas específicas também, mas vamos focar no Selenium por ser a mais usada e ser muito versátil.\n",
    "\n",
    "- https://drive.google.com/file/d/1McnCZkkRLMU1TWw3330ua8E0NrOf_bVC/view baixe esse arquivo e coloque dentro da pasta do anaconda no seu pc\n",
    "\n",
    "Obs: Caso esteja usando o Google Colab, o navegador não vai abrir ativamente no seu computador, ele vai ficar escondido porque abre no computador onde está rodando o código. Para então fazer tudo funcionar, eu gravei um vídeo para você que está na plataforma que repliquei esse passo a passo que encontrei na internet: https://www.it-swarm-pt.tech/pt/selenium/como-podemos-usar-o-selenium-webdriver-em-colab.research.google.com/806263350/\n",
    "\n",
    "### Projeto Completo\n",
    "\n",
    "Vamos fazer aqui nesse módulo uma introdução para você entender como funciona e resolver um desafio, mas vamos usar mais e de forma mais completa na Aplicação de Mercado de Trabalho de Automações\n"
   ]
  },
  {
   "cell_type": "markdown",
   "metadata": {},
   "source": [
    "### Abrindo um navegador"
   ]
  },
  {
   "cell_type": "code",
   "execution_count": 4,
   "metadata": {},
   "outputs": [
    {
     "name": "stdout",
     "output_type": "stream",
     "text": [
      "FernandaMakiHirose (Fernanda Maki Hirose) · GitHub\n"
     ]
    }
   ],
   "source": [
    "# vá no terminal da anaconda e escreva: pip install selenium\n",
    "from selenium import webdriver\n",
    "\n",
    "driver = webdriver.Chrome() # abrindo o google chrome\n",
    "driver.get(\"https://github.com/FernandaMakiHirose\") # irá navegar nesse site\n",
    "print(driver.title) # irá pegar o título desse site"
   ]
  }
 ],
 "metadata": {
  "kernelspec": {
   "display_name": "Python 3",
   "language": "python",
   "name": "python3"
  },
  "language_info": {
   "codemirror_mode": {
    "name": "ipython",
    "version": 3
   },
   "file_extension": ".py",
   "mimetype": "text/x-python",
   "name": "python",
   "nbconvert_exporter": "python",
   "pygments_lexer": "ipython3",
   "version": "3.8.5"
  }
 },
 "nbformat": 4,
 "nbformat_minor": 4
}
