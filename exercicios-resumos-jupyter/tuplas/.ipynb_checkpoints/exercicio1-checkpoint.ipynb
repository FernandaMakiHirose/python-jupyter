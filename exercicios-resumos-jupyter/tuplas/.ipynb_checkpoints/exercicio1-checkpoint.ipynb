{
 "cells": [
  {
   "cell_type": "markdown",
   "metadata": {},
   "source": [
    "# Exercícios\n",
    "\n",
    "São exercícios bem parecidos com os que fizemos com listas. Mas na tupla, podemos não só trabalhar com índices, mas fazer o \"unpacking\" das tuplas, o que pode facilitar nossos códigos.\n",
    "\n",
    "## 1. Análise de Vendas\n",
    "\n",
    "Nesse exercício vamos fazer uma \"análise simples\" de atingimento de Meta.\n",
    "\n",
    "Temos uma lista com os vendedores e os valores de vendas e queremos identificar (printar) quais os vendedores que bateram a meta e qual foi o valor que eles venderam."
   ]
  },
  {
   "cell_type": "code",
   "execution_count": 15,
   "metadata": {},
   "outputs": [
    {
     "name": "stdout",
     "output_type": "stream",
     "text": [
      "João bateu a meta com 15000 vendas.\n",
      "Julia bateu a meta com 27000 vendas.\n",
      "Ana bateu a meta com 10300 vendas.\n"
     ]
    }
   ],
   "source": [
    "meta = 10000\n",
    "vendas = [\n",
    "    ('João', 15000),\n",
    "    ('Julia', 27000),\n",
    "    ('Marcus', 9900),\n",
    "    ('Maria', 3750),\n",
    "    ('Ana', 10300),\n",
    "    ('Alon', 7870),\n",
    "]\n",
    "\n",
    "for nome, item in vendas:\n",
    "    if item >= meta:\n",
    "        print(f'{nome} bateu a meta com {item} vendas.')"
   ]
  },
  {
   "cell_type": "markdown",
   "metadata": {},
   "source": [
    "## 2. Comparação com Ano Anterior\n",
    "\n",
    "Digamos que você está analisando as vendas de produtos de um ecommerce e quer identificar quais produtos tiveram no ano de 2020 mais vendas do que no ano de 2019, para reportar isso para a diretoria.\n",
    "\n",
    "Sua resposta pode ser um print de cada produto, qual foi a venda de 2019, a venda de 2020 e o % de crescimento de 2020 para 2019.\n",
    "\n",
    "Lembrando, para calcular o % de crescimento de um produto de um ano para o outro, podemos fazer: (vendas_produto2020/vendas_produto2019 - 1)\n",
    "\n",
    "A lógica da tupla é: (produto, vendas2019, vendas2020)"
   ]
  },
  {
   "cell_type": "code",
   "execution_count": 7,
   "metadata": {},
   "outputs": [
    {
     "name": "stdout",
     "output_type": "stream",
     "text": [
      "iphone teve R$558.147,00 vendas em 2019 e R$951.642,00 vendas em 2020 com crescimento de 70.5%\n",
      "tv teve R$405.252,00 vendas em 2019 e R$787.604,00 vendas em 2020 com crescimento de 94.3%\n",
      "máquina de café teve R$718.654,00 vendas em 2019 e R$867.660,00 vendas em 2020 com crescimento de 20.7%\n",
      "notebook dell teve R$422.760,00 vendas em 2019 e R$694.913,00 vendas em 2020 com crescimento de 64.4%\n",
      "notebook hp teve R$154.753,00 vendas em 2019 e R$539.704,00 vendas em 2020 com crescimento de 248.8%\n",
      "microsoft surface teve R$438.508,00 vendas em 2019 e R$667.179,00 vendas em 2020 com crescimento de 52.1%\n",
      "webcam teve R$237.467,00 vendas em 2019 e R$295.633,00 vendas em 2020 com crescimento de 24.5%\n",
      "caixa de som teve R$489.705,00 vendas em 2019 e R$725.316,00 vendas em 2020 com crescimento de 48.1%\n",
      "microfone teve R$328.311,00 vendas em 2019 e R$644.622,00 vendas em 2020 com crescimento de 96.3%\n",
      "câmera canon teve R$591.120,00 vendas em 2019 e R$994.303,00 vendas em 2020 com crescimento de 68.2%\n"
     ]
    }
   ],
   "source": [
    "vendas_produtos = [('iphone', 558147, 951642), ('galaxy', 712350, 244295), ('ipad', 573823, 26964), ('tv', 405252, 787604), ('máquina de café', 718654, 867660), ('kindle', 531580, 78830), ('geladeira', 973139, 710331), ('adega', 892292, 646016), ('notebook dell', 422760, 694913), ('notebook hp', 154753, 539704), ('notebook asus', 887061, 324831), ('microsoft surface', 438508, 667179), ('webcam', 237467, 295633), ('caixa de som', 489705, 725316), ('microfone', 328311, 644622), ('câmera canon', 591120, 994303)]\n",
    "\n",
    "#seu código aqui\n",
    "for nome, ano2019, ano2020 in vendas_produtos:\n",
    "    if ano2020 > ano2019:\n",
    "        crescimento = (ano2020/ano2019 - 1)\n",
    "        texto = 'R${:_.2f}'.format(ano2020) \n",
    "        texto2 = 'R${:_.2f}'.format(ano2019) \n",
    "        formatando2020 = texto.replace('.', ',').replace('_', '.')\n",
    "        formatando2019 = texto2.replace('.', ',').replace('_', '.')\n",
    "        print('{} teve {} vendas em 2019 e {} vendas em 2020 com crescimento de {:.1%}' .format(nome, formatando2019, formatando2020, crescimento))"
   ]
  },
  {
   "cell_type": "code",
   "execution_count": null,
   "metadata": {},
   "outputs": [],
   "source": []
  }
 ],
 "metadata": {
  "kernelspec": {
   "display_name": "Python 3",
   "language": "python",
   "name": "python3"
  },
  "language_info": {
   "codemirror_mode": {
    "name": "ipython",
    "version": 3
   },
   "file_extension": ".py",
   "mimetype": "text/x-python",
   "name": "python",
   "nbconvert_exporter": "python",
   "pygments_lexer": "ipython3",
   "version": "3.8.8"
  }
 },
 "nbformat": 4,
 "nbformat_minor": 4
}
