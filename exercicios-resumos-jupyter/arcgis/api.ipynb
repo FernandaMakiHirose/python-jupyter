{
 "cells": [
  {
   "cell_type": "markdown",
   "metadata": {},
   "source": [
    "# Vamos usar a API do ArcGIS\n",
    "\n",
    "- Links Úteis: \n",
    "    - Documentação: https://developers.arcgis.com/python/\n",
    "    - Guias: https://developers.arcgis.com/python/guide/install-and-set-up/"
   ]
  },
  {
   "cell_type": "code",
   "execution_count": 12,
   "metadata": {},
   "outputs": [
    {
     "data": {
      "text/html": [
       "<div class=\"9item_container\" style=\"height: auto; overflow: hidden; border: 1px solid #cfcfcf; border-radius: 2px; background: #f6fafa; line-height: 1.21429em; padding: 10px;\">\n",
       "                    <div class=\"item_left\" style=\"width: 210px; float: left;\">\n",
       "                       <a href='https://www.arcgis.com/home/user.html?user=rxsingh' target='_blank'>\n",
       "                        <img src='https://www.arcgis.com/sharing/rest/community/users/rxsingh/info/rohit150.png' class=\"itemThumbnail\">\n",
       "                       </a>\n",
       "                    </div>\n",
       "\n",
       "                    <div class=\"item_right\" style=\"float: none; width: auto; overflow: hidden;\">\n",
       "                        <a href='https://www.arcgis.com/home/user.html?user=rxsingh' target='_blank'><b>Rohit Singh</b>\n",
       "                        </a>\n",
       "                        <br/><br/><b>Bio</b>: \n",
       "                        <br/><b>First Name</b>: Rohit\n",
       "                        <br/><b>Last Name</b>: Singh\n",
       "                        <br/><b>Username</b>: rxsingh\n",
       "                        <br/><b>Joined</b>: julho 02, 2014\n",
       "\n",
       "                    </div>\n",
       "                </div>\n",
       "                "
      ],
      "text/plain": [
       "<User username:rxsingh>"
      ]
     },
     "metadata": {},
     "output_type": "display_data"
    }
   ],
   "source": [
    "# importando o arcgis\n",
    "from arcgis.gis import GIS\n",
    "\n",
    "# se conectando com um usuário anônimo, sem usuário e senha\n",
    "gis = GIS()\n",
    "\n",
    "# se conectando com o usuário 'rxsingh'\n",
    "user = gis.users.get('rxsingh')\n",
    "\n",
    "# mostrando o resultado\n",
    "display(user)"
   ]
  },
  {
   "cell_type": "code",
   "execution_count": 19,
   "metadata": {},
   "outputs": [
    {
     "data": {
      "application/vnd.jupyter.widget-view+json": {
       "model_id": "0eb615d670904a6f84afc818f3dc62f7",
       "version_major": 2,
       "version_minor": 0
      },
      "text/plain": [
       "MapView(layout=Layout(height='400px', width='100%'))"
      ]
     },
     "metadata": {},
     "output_type": "display_data"
    },
    {
     "data": {
      "text/html": [
       "<div class=\"map-static-img-preview-363e8e9e-49c7-4b25-9e05-f94391bbd647\"><img src=\"\"></img></div>"
      ],
      "text/plain": [
       "<IPython.core.display.HTML object>"
      ]
     },
     "metadata": {},
     "output_type": "display_data"
    },
    {
     "data": {
      "text/html": [
       "<div class=\"map-html-embed-preview-363e8e9e-49c7-4b25-9e05-f94391bbd647\"></div>"
      ],
      "text/plain": [
       "<IPython.core.display.HTML object>"
      ]
     },
     "metadata": {},
     "output_type": "display_data"
    }
   ],
   "source": [
    "# mostrando o mapa\n",
    "map = gis.map(\"Palm Springs, CA\", zoomlevel=12)\n",
    "map"
   ]
  },
  {
   "cell_type": "code",
   "execution_count": 7,
   "metadata": {},
   "outputs": [
    {
     "data": {
      "text/html": [
       "<div class=\"item_container\" style=\"height: auto; overflow: hidden; border: 1px solid #cfcfcf; border-radius: 2px; background: #f6fafa; line-height: 1.21429em; padding: 10px;\">\n",
       "                    <div class=\"item_left\" style=\"width: 210px; float: left;\">\n",
       "                       <a href='https://www.arcgis.com/home/item.html?id=b0012adcfb844ea7b0674a5251ac4b42' target='_blank'>\n",
       "                        <img src='https://www.arcgis.com/sharing/rest//content/items/b0012adcfb844ea7b0674a5251ac4b42/info/thumbnail/ago_downloaded.png' class=\"itemThumbnail\">\n",
       "                       </a>\n",
       "                    </div>\n",
       "\n",
       "                    <div class=\"item_right\"     style=\"float: none; width: auto; overflow: hidden;\">\n",
       "                        <a href='https://www.arcgis.com/home/item.html?id=b0012adcfb844ea7b0674a5251ac4b42' target='_blank'><b>Original Plan Remaining from Basin and Range svc</b>\n",
       "                        </a>\n",
       "                        <br/>Route and directions for Original Plan Remaining from Basin and Range<img src='https://www.arcgis.com/home/js/jsapi/esri/css/images/item_type_icons/featureshosted16.png' style=\"vertical-align:middle;\">Feature Layer Collection by geeknixta\n",
       "                        <br/>Last Modified: junho 21, 2017\n",
       "                        <br/>0 comments, 274 views\n",
       "                    </div>\n",
       "                </div>\n",
       "                "
      ],
      "text/plain": [
       "<Item title:\"Original Plan Remaining from Basin and Range svc\" type:Feature Layer Collection owner:geeknixta>"
      ]
     },
     "metadata": {},
     "output_type": "display_data"
    },
    {
     "data": {
      "text/html": [
       "<div class=\"item_container\" style=\"height: auto; overflow: hidden; border: 1px solid #cfcfcf; border-radius: 2px; background: #f6fafa; line-height: 1.21429em; padding: 10px;\">\n",
       "                    <div class=\"item_left\" style=\"width: 210px; float: left;\">\n",
       "                       <a href='https://www.arcgis.com/home/item.html?id=806dc7a1946c473681441b8f78e1413b' target='_blank'>\n",
       "                        <img src='https://www.arcgis.com/sharing/rest//content/items/806dc7a1946c473681441b8f78e1413b/info/thumbnail/thumbnail.png' class=\"itemThumbnail\">\n",
       "                       </a>\n",
       "                    </div>\n",
       "\n",
       "                    <div class=\"item_right\"     style=\"float: none; width: auto; overflow: hidden;\">\n",
       "                        <a href='https://www.arcgis.com/home/item.html?id=806dc7a1946c473681441b8f78e1413b' target='_blank'><b>Loop7Victor_WFL</b>\n",
       "                        </a>\n",
       "                        <br/>Victor Loop Trail<img src='https://www.arcgis.com/home/js/jsapi/esri/css/images/item_type_icons/featureshosted16.png' style=\"vertical-align:middle;\">Feature Layer Collection by kgrahamACBCI\n",
       "                        <br/>Last Modified: fevereiro 28, 2018\n",
       "                        <br/>0 comments, 36.530 views\n",
       "                    </div>\n",
       "                </div>\n",
       "                "
      ],
      "text/plain": [
       "<Item title:\"Loop7Victor_WFL\" type:Feature Layer Collection owner:kgrahamACBCI>"
      ]
     },
     "metadata": {},
     "output_type": "display_data"
    },
    {
     "data": {
      "text/html": [
       "<div class=\"item_container\" style=\"height: auto; overflow: hidden; border: 1px solid #cfcfcf; border-radius: 2px; background: #f6fafa; line-height: 1.21429em; padding: 10px;\">\n",
       "                    <div class=\"item_left\" style=\"width: 210px; float: left;\">\n",
       "                       <a href='https://www.arcgis.com/home/item.html?id=fbe6713d6aa94e0fb4fec08952949119' target='_blank'>\n",
       "                        <img src='https://www.arcgis.com/sharing/rest//content/items/fbe6713d6aa94e0fb4fec08952949119/info/thumbnail/palm_springs.png' class=\"itemThumbnail\">\n",
       "                       </a>\n",
       "                    </div>\n",
       "\n",
       "                    <div class=\"item_right\"     style=\"float: none; width: auto; overflow: hidden;\">\n",
       "                        <a href='https://www.arcgis.com/home/item.html?id=fbe6713d6aa94e0fb4fec08952949119' target='_blank'><b>Palm Springs Trails</b>\n",
       "                        </a>\n",
       "                        <br/>Trails in the Palm Springs area affected by the BLM - Agua Caliente land exchange<img src='https://www.arcgis.com/home/js/jsapi/esri/css/images/item_type_icons/featureshosted16.png' style=\"vertical-align:middle;\">Feature Layer Collection by paniello_geodesign\n",
       "                        <br/>Last Modified: março 13, 2015\n",
       "                        <br/>0 comments, 750 views\n",
       "                    </div>\n",
       "                </div>\n",
       "                "
      ],
      "text/plain": [
       "<Item title:\"Palm Springs Trails\" type:Feature Layer Collection owner:paniello_geodesign>"
      ]
     },
     "metadata": {},
     "output_type": "display_data"
    }
   ],
   "source": [
    "# vai pegar os 3 primeiros itens de 'Palm Springs Trails'\n",
    "items = gis.content.search('Palm Springs Trails', item_type=\"Feature Layer\", outside_org=True)\n",
    "for item in items[:3]:\n",
    "    display(item)"
   ]
  },
  {
   "cell_type": "code",
   "execution_count": 8,
   "metadata": {},
   "outputs": [],
   "source": [
    "# vai adicionar um layer, vai adicionar os dados acima no mapa\n",
    "map.add_layer(items[1].layers[0])"
   ]
  }
 ],
 "metadata": {
  "kernelspec": {
   "display_name": "Python 3",
   "language": "python",
   "name": "python3"
  },
  "language_info": {
   "codemirror_mode": {
    "name": "ipython",
    "version": 3
   },
   "file_extension": ".py",
   "mimetype": "text/x-python",
   "name": "python",
   "nbconvert_exporter": "python",
   "pygments_lexer": "ipython3",
   "version": "3.8.8"
  }
 },
 "nbformat": 4,
 "nbformat_minor": 4
}
