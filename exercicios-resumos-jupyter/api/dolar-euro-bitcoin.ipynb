{
 "cells": [
  {
   "cell_type": "markdown",
   "metadata": {},
   "source": [
    "# Python e API\n",
    "\n",
    "### O que é uma API?\n",
    "\n",
    "- É um conjunto de códigos para usar um serviço/site/aplicativo específico. Cada site/ferramenta tem sua própria API. É importante que você saiba ler as APIs que precisar para saber usar\n",
    "\n",
    "- Um dos padrões mais comuns em API é pegar informações em formato json, uma espécie de dicionário que precisa ser tratada no Python para podermos analisar\n",
    "\n",
    "- As possibilidades de API são infinitas, vamos fazer 2 exemplos aqui: Cotação de Moedas e Envio de SMS.\n",
    "\n",
    "- Sites como Google, Youtube, Facebook, Twitter, ArcGis e praticamente qualquer ferramenta/site grande tem uma API.\n",
    "\n",
    "### O que precisamos:\n",
    "\n",
    "- Quase sempre você precisa de uma conta para consumir uma API. Algumas APIs são abertas, como a https://docs.awesomeapi.com.br/api-de-moedas , mas em muitos casos (como veremos no caso do SMS) vamos precisar ter uma conta ativa para consumir a API\n",
    "\n",
    "- A Documentação da API (ou exemplos da internet) é a chave para conseguir usar uma API "
   ]
  },
  {
   "cell_type": "markdown",
   "metadata": {},
   "source": [
    "#### Pegar a Cotação Atual de Todas as Moedas "
   ]
  },
  {
   "cell_type": "code",
   "execution_count": 1,
   "metadata": {},
   "outputs": [
    {
     "name": "stdout",
     "output_type": "stream",
     "text": [
      "{'USD': {'code': 'USD', 'codein': 'BRL', 'name': 'Dólar Americano/Real Brasileiro', 'high': '5.2806', 'low': '5.2306', 'varBid': '-0.0235', 'pctChange': '-0.45', 'bid': '5.248', 'ask': '5.2508', 'timestamp': '1621358298', 'create_date': '2021-05-18 14:18:23'}, 'USDT': {'code': 'USD', 'codein': 'BRLT', 'name': 'Dólar Americano/Real Brasileiro Turismo', 'high': '5.41', 'low': '5.365', 'varBid': '-0.025', 'pctChange': '-0.46', 'bid': '5.22', 'ask': '5.53', 'timestamp': '1621357260', 'create_date': '2021-05-18 14:01:59'}, 'CAD': {'code': 'CAD', 'codein': 'BRL', 'name': 'Dólar Canadense/Real Brasileiro', 'high': '4.3902', 'low': '4.3399', 'varBid': '-0.0156', 'pctChange': '-0.36', 'bid': '4.3516', 'ask': '4.3543', 'timestamp': '1621358304', 'create_date': '2021-05-18 14:18:28'}, 'GBP': {'code': 'GBP', 'codein': 'BRL', 'name': 'Libra Esterlina/Real Brasileiro', 'high': '7.4984', 'low': '7.4212', 'varBid': '-0.0023', 'pctChange': '-0.03', 'bid': '7.4474', 'ask': '7.4535', 'timestamp': '1621358305', 'create_date': '2021-05-18 14:18:27'}, 'ARS': {'code': 'ARS', 'codein': 'BRL', 'name': 'Peso Argentino/Real Brasileiro', 'high': '0.0561', 'low': '0.0556', 'varBid': '-0.0003', 'pctChange': '-0.45', 'bid': '0.0557', 'ask': '0.0558', 'timestamp': '1621358298', 'create_date': '2021-05-18 14:18:23'}, 'BTC': {'code': 'BTC', 'codein': 'BRL', 'name': 'Bitcoin/Real Brasileiro', 'high': '249010', 'low': '218432', 'varBid': '7158.5', 'pctChange': '3.2', 'bid': '231138.1', 'ask': '232200.2', 'timestamp': '1621358307', 'create_date': '2021-05-18 14:18:27'}, 'LTC': {'code': 'LTC', 'codein': 'BRL', 'name': 'Litecoin/Real Brasileiro', 'high': '1707.32', 'low': '1351', 'varBid': '236.71', 'pctChange': '16.88', 'bid': '1638.8', 'ask': '1646', 'timestamp': '1621358308', 'create_date': '2021-05-18 14:18:28'}, 'EUR': {'code': 'EUR', 'codein': 'BRL', 'name': 'Euro/Real Brasileiro', 'high': '6.4472', 'low': '6.3843', 'varBid': '0.0056', 'pctChange': '0.09', 'bid': '6.4099', 'ask': '6.4154', 'timestamp': '1621358300', 'create_date': '2021-05-18 14:18:24'}, 'JPY': {'code': 'JPY', 'codein': 'BRL', 'name': 'Iene Japonês/Real Brasileiro', 'high': '0.04848', 'low': '0.04799', 'varBid': '-0.0001', 'pctChange': '-0.21', 'bid': '0.04819', 'ask': '0.0482', 'timestamp': '1621358307', 'create_date': '2021-05-18 14:18:27'}, 'CHF': {'code': 'CHF', 'codein': 'BRL', 'name': 'Franco Suíço/Real Brasileiro', 'high': '5.8862', 'low': '5.8219', 'varBid': '0.0126', 'pctChange': '0.22', 'bid': '5.8461', 'ask': '5.8498', 'timestamp': '1621358298', 'create_date': '2021-05-18 14:18:20'}, 'AUD': {'code': 'AUD', 'codein': 'BRL', 'name': 'Dólar Australiano/Real Brasileiro', 'high': '4.1199', 'low': '4.0722', 'varBid': '-0.0018', 'pctChange': '-0.04', 'bid': '4.0903', 'ask': '4.093', 'timestamp': '1621358304', 'create_date': '2021-05-18 14:18:28'}, 'CNY': {'code': 'CNY', 'codein': 'BRL', 'name': 'Yuan Chinês/Real Brasileiro', 'high': '0.8217', 'low': '0.8142', 'varBid': '-0.0004', 'pctChange': '-0.05', 'bid': '0.8167', 'ask': '0.8172', 'timestamp': '1621358284', 'create_date': '2021-05-18 14:18:04'}, 'ILS': {'code': 'ILS', 'codein': 'BRL', 'name': 'Novo Shekel Israelense/Real Brasileiro', 'high': '1.6205', 'low': '1.6019', 'varBid': '0.0082', 'pctChange': '0.51', 'bid': '1.6122', 'ask': '1.6132', 'timestamp': '1621358286', 'create_date': '2021-05-18 14:18:06'}, 'ETH': {'code': 'ETH', 'codein': 'BRL', 'name': 'Ethereum/Real Brasileiro', 'high': '1200.21', 'low': '1200.21', 'varBid': '0', 'pctChange': '0', 'bid': '1440.25', 'ask': '16999.75', 'timestamp': '1610415652', 'create_date': '2021-01-11 22:40:52'}, 'XRP': {'code': 'XRP', 'codein': 'BRL', 'name': 'XRP/Real Brasileiro', 'high': '8.99', 'low': '7.5', 'varBid': '0.79', 'pctChange': '10.19', 'bid': '8.54', 'ask': '8.55', 'timestamp': '1621358308', 'create_date': '2021-05-18 14:18:28'}, 'DOGE': {'code': 'DOGE', 'codein': 'BRL', 'name': 'Dogecoin/Real Brasileiro', 'high': '2.66', 'low': '2.47', 'varBid': '0.02', 'pctChange': '0.8', 'bid': '2.52', 'ask': '2.52', 'timestamp': '1621358307', 'create_date': '2021-05-18 14:18:27'}}\n"
     ]
    }
   ],
   "source": [
    "import requests\n",
    "import json \n",
    "\n",
    "cotacoes = requests.get('https://economia.awesomeapi.com.br/json/all')\n",
    "cotacoes_dic = cotacoes.json()\n",
    "print(cotacoes_dic)"
   ]
  },
  {
   "cell_type": "markdown",
   "metadata": {},
   "source": [
    "#### Qual foi a última cotação do Dólar, do Euro e do BitCoin? (Sua resposta vai dar diferente do gabarito, porque estamos rodando o código em momentos diferentes, mas o seu código deve ser o mesmo/parecido)"
   ]
  },
  {
   "cell_type": "code",
   "execution_count": 3,
   "metadata": {},
   "outputs": [
    {
     "name": "stdout",
     "output_type": "stream",
     "text": [
      "Dólar: 5.248\n",
      "Euro: 6.4099\n",
      "BitCoin: 231138.1\n"
     ]
    }
   ],
   "source": [
    "# pegamos essas informações no site \n",
    "print('Dólar: {}'.format(cotacoes_dic['USD']['bid']))\n",
    "print('Euro: {}'.format(cotacoes_dic['EUR']['bid']))\n",
    "print('BitCoin: {}'.format(cotacoes_dic['BTC']['bid']))"
   ]
  },
  {
   "cell_type": "markdown",
   "metadata": {},
   "source": [
    "#### Pegar a cotação dos últimos 30 dias do dólar (Sua resposta vai dar diferente do gabarito, porque estamos rodando o código em momentos diferentes, mas o seu código deve ser o mesmo/parecido)"
   ]
  },
  {
   "cell_type": "code",
   "execution_count": 11,
   "metadata": {},
   "outputs": [
    {
     "name": "stdout",
     "output_type": "stream",
     "text": [
      "[5.6753, 5.7125, 5.7729, 5.6211, 5.5214, 5.5067, 5.49, 5.5602, 5.5832, 5.6244, 5.6156, 5.5518, 5.5357, 5.672, 5.8025, 5.8755, 5.6908, 5.6693, 5.6193, 5.6761, 5.6418, 5.5976, 5.5308, 5.4409, 5.4659, 5.3823, 5.427, 5.4105, 5.3695, 5.3708]\n"
     ]
    }
   ],
   "source": [
    "cotacoes_dolar30d = requests.get('https://economia.awesomeapi.com.br/json/daily/USD-BRL/30')\n",
    "cotacoes_dolar_dic = cotacoes_dolar30d.json()\n",
    "lista_cotacao_dolar = [float(item['bid']) for item in cotacoes_dolar_dic]\n",
    "print(lista_cotacao_dolar)"
   ]
  },
  {
   "cell_type": "markdown",
   "metadata": {},
   "source": [
    "#### Pegar as cotações do BitCoin de Jan/20 a Out/20"
   ]
  },
  {
   "cell_type": "code",
   "execution_count": 22,
   "metadata": {},
   "outputs": [
    {
     "name": "stdout",
     "output_type": "stream",
     "text": [
      "[35150.0, 37025.0, 36836.7, 37415.0, 37158.0, 36652.1, 36800.0, 38000.1, 40050.0, 41050.0, 41212.0, 41715.0, 43392.0, 43070.0, 46424.7, 46610.0, 47626.0, 47900.0, 48553.0, 48852.0, 49700.0, 52500.0, 57700.0, 52609.1, 52499.0, 49225.0, 49700.0, 51488.8, 54450.0, 56208.0, 53609.0, 54207.4, 55300.0, 55651.1, 55760.8, 54831.8, 51440.0, 51400.0, 51600.0, 49560.0, 49735.0, 47625.1, 49000.2, 51700.3, 50650.0, 51500.0, 50865.1, 53600.0, 54001.0, 49500.4, 50400.6, 48800.4, 48820.6, 49133.5, 48096.8, 48201.0, 49350.0, 47000.0, 48100.1, 47788.9, 47750.0, 48501.4, 49679.0, 49290.6, 50405.0, 49700.0, 49750.0, 49782.0, 50710.0, 49759.1, 49800.0, 49755.0, 49915.1, 49678.2, 49746.8, 49840.0, 49960.0, 49800.0, 49208.8, 48815.5, 48993.1, 48850.0, 49890.0, 49900.1, 50360.1, 49890.0, 49905.9, 49750.0, 49920.0, 50041.3, 50073.4, 49868.0, 49320.0, 49702.1, 49651.8, 49680.0, 49516.5, 49143.0, 49321.0, 49850.0, 49951.1, 50400.2, 50402.0, 55300.0, 56161.0, 57490.0, 57330.0, 58950.0, 61298.1, 58296.3, 59800.0, 59951.0, 61902.2, 63302.0, 63140.0, 63715.0, 63700.0, 65303.8, 62300.0, 63120.0, 63210.3, 63905.0, 64280.0, 64270.3, 67501.0, 66453.3, 65800.0, 66655.0, 65657.4, 66112.0, 66100.0, 66360.9, 63606.0, 64655.2, 63599.9, 63016.2, 62700.0, 63350.9, 64200.0, 64900.0, 61939.0, 55336.6, 56500.0, 54555.7, 55550.3, 55102.2, 54348.3, 55059.1, 55511.0, 55821.2, 55856.7, 55566.0, 56908.9, 57700.0, 58250.0, 57807.2, 59285.0, 59750.0, 59100.0, 57050.6, 57880.5, 57884.0, 59501.1, 59845.0, 59720.5, 59638.4, 60600.1, 60995.0, 60950.1, 60390.7, 60512.5, 60018.1, 60569.2, 60210.3, 59801.0, 60265.0, 61211.5, 61960.0, 62747.2, 62701.0, 63558.3, 63601.7, 64100.6, 65000.0, 64400.0, 64500.0, 64950.1, 66000.3, 66952.4, 71401.0, 72251.2, 72202.4, 73300.0, 73200.0, 73685.5, 77888.1, 76550.1, 77950.2, 78101.0, 79401.1]\n"
     ]
    }
   ],
   "source": [
    "cotacoes_btc = requests.get('https://economia.awesomeapi.com.br/json/daily/BTC-BRL/200?start_date=20200101&end_date=20201031')\n",
    "cotacoes_btc_dic = cotacoes_btc.json()\n",
    "lista_cotacoes_btc = [float(item['bid']) for item in cotacoes_btc_dic]\n",
    "lista_cotacoes_btc.reverse() # invertendo os valores de uma lista\n",
    "print(lista_cotacoes_btc)"
   ]
  },
  {
   "cell_type": "markdown",
   "metadata": {},
   "source": [
    "#### Gráfico com as cotações do BitCoin"
   ]
  },
  {
   "cell_type": "code",
   "execution_count": null,
   "metadata": {},
   "outputs": [],
   "source": [
    "import matplotlib as plt\n",
    "\n",
    "plt.figure(figsize=(15, 5))\n",
    "plt.plot(lista_cotacoes_btc)\n",
    "plt.show()"
   ]
  }
 ],
 "metadata": {
  "kernelspec": {
   "display_name": "Python 3",
   "language": "python",
   "name": "python3"
  },
  "language_info": {
   "codemirror_mode": {
    "name": "ipython",
    "version": 3
   },
   "file_extension": ".py",
   "mimetype": "text/x-python",
   "name": "python",
   "nbconvert_exporter": "python",
   "pygments_lexer": "ipython3",
   "version": "3.8.5"
  }
 },
 "nbformat": 4,
 "nbformat_minor": 4
}
