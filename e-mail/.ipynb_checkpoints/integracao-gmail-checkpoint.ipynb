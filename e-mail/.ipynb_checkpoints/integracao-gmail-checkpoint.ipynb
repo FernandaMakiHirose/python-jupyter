{
 "cells": [
  {
   "cell_type": "markdown",
   "metadata": {},
   "source": [
    "# Integração Python com Gmail - Usando yagmail\n",
    "\n",
    "### 2 métodos principais\n",
    "\n",
    "- yagmail.smtp"
   ]
  },
  {
   "cell_type": "raw",
   "metadata": {},
   "source": [
    "usuario = yagmail.SMTP(user='usuario@gmail.com', password='senha')"
   ]
  },
  {
   "cell_type": "markdown",
   "metadata": {},
   "source": [
    "- .send"
   ]
  },
  {
   "cell_type": "raw",
   "metadata": {},
   "source": [
    "usuario.send(to='destinatario', subject='assunto', contents='conteúdo do e-mail')"
   ]
  },
  {
   "cell_type": "markdown",
   "metadata": {},
   "source": [
    "### Enviando E-mail"
   ]
  },
  {
   "cell_type": "code",
   "execution_count": 3,
   "metadata": {},
   "outputs": [
    {
     "data": {
      "text/plain": [
       "{}"
      ]
     },
     "execution_count": 3,
     "metadata": {},
     "output_type": "execute_result"
    }
   ],
   "source": [
    "import yagmail\n",
    "usuario = yagmail.SMTP(user='', password='')\n",
    "usuario.send(to='', subject='', contents='')\n",
    "# use \\n para dar enter na mensagem do e-mail"
   ]
  },
  {
   "cell_type": "markdown",
   "metadata": {},
   "source": [
    "### Enviando E-mail com Anexo(s)"
   ]
  },
  {
   "cell_type": "code",
   "execution_count": null,
   "metadata": {},
   "outputs": [],
   "source": [
    "# no attachments coloque o caminho + nome do arquivo + sua extensão \n",
    "usuario.send(to='', subject='', contents='', attachments='')\n",
    "\n",
    "# e-mail em anexo com mais de um anexo\n",
    "usuario.send(to='', subject='', contents='', attachments=['', '', ''])\n",
    "\n",
    "# caso você esteja colocando suas informações o código no jupyter pode ficar muito grande, então coloque \\\n",
    "# exemplo:\n",
    "usuario.send(to='', subject='', \\\n",
    "             contents='', attachments='')"
   ]
  },
  {
   "cell_type": "markdown",
   "metadata": {},
   "source": [
    "### Cópia, mais de 1 destinatário e outras variações"
   ]
  },
  {
   "cell_type": "code",
   "execution_count": null,
   "metadata": {},
   "outputs": [],
   "source": [
    "# os destinatários vão ficar dentro da lista\n",
    "# no lugar de bcc (cópia oculta) poderia ser cc (cópia)\n",
    "usuario.send(to='', bc='', subject='', contents='')\n",
    "\n",
    "# mandando para mais pessoas\n",
    "usuario.send(to='', bc=['', '', ''], subject='', contents='')"
   ]
  },
  {
   "cell_type": "markdown",
   "metadata": {},
   "source": [
    "### Personalizando o texto do e-mail\n",
    "\n",
    "- Com Python normal"
   ]
  },
  {
   "cell_type": "code",
   "execution_count": null,
   "metadata": {},
   "outputs": [],
   "source": [
    "# primeira forma de fazer\n",
    "corpo_email = [\n",
    "    'Olá, Fernanda! Tudo bom?',\n",
    "    'Como está sendo aprender Python?',\n",
    "    'Até logo!'\n",
    "]\n",
    "\n",
    "corpo_email = '\\n'.join(corpo_email) # vai mandar o e-mail com cada frase em uma linha\n",
    "\n",
    "usuario = yagmail.SMTP(user='', password='')\n",
    "usuario.send(to='', subject='', contents=corpo_email)\n",
    "\n",
    "# segunda forma de fazer\n",
    "corpo_email = '''\n",
    "Olá, Fernanda! Tudo bom?\n",
    "Como está sendo aprender Python?\n",
    "Até logo!\n",
    "'''\n",
    "\n",
    "usuario = yagmail.SMTP(user='', password='')\n",
    "usuario.send(to='', subject='', contents=corpo_email)\n",
    "\n",
    "# dica extra: eu testei usar o HTML dentro desses textos, existem certos bugs em 2021, então não recomendo usar no momento."
   ]
  }
 ],
 "metadata": {
  "kernelspec": {
   "display_name": "Python 3",
   "language": "python",
   "name": "python3"
  },
  "language_info": {
   "codemirror_mode": {
    "name": "ipython",
    "version": 3
   },
   "file_extension": ".py",
   "mimetype": "text/x-python",
   "name": "python",
   "nbconvert_exporter": "python",
   "pygments_lexer": "ipython3",
   "version": "3.8.8"
  }
 },
 "nbformat": 4,
 "nbformat_minor": 4
}
